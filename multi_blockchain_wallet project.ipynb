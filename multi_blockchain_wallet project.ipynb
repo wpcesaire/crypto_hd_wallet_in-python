{
 "cells": [
  {
   "cell_type": "code",
   "execution_count": 233,
   "metadata": {},
   "outputs": [
    {
     "data": {
      "text/plain": [
       "[{'path': \"m/44'/0'/0'/0/0\",\n",
       "  'address': '1HZRs8j3ASZ7sX4Kj4KeUsFDNb6Tb2yN3t',\n",
       "  'privkey': 'KxXx6TTL5EEEDunowjC1mFJndQ1WPXeMSbECtHeQ3YcR7uZb1XW7',\n",
       "  'pubkey': '02820c0d0a602ae23c345f6e57e54819861d0af7cdfd7c767c6c4d4f8dc6a5421b'},\n",
       " {'path': \"m/44'/0'/0'/0/1\",\n",
       "  'address': '1EsuEnBf8wPPzeEMH92fSdoBmscB623gX6',\n",
       "  'privkey': 'L3duaWkXu8CuirT9Pb2uAMRQPBqMxC19XjKRy6bbcNgcMGdaMeyF',\n",
       "  'pubkey': '02352120a265ecdfb6a01cf6faa2c9acd350a17ddcc866ba95616862cc08ab5dd4'},\n",
       " {'path': \"m/44'/0'/0'/0/2\",\n",
       "  'address': '163D931rzd6tSVFyP9yjhQGx6CjyFXsamS',\n",
       "  'privkey': 'KxQYp8bDPwMyvMtxgyL9Uv4nB8GWP7ozU2Wwxzuy2DrKR6KbcBNW',\n",
       "  'pubkey': '0383ff0b76e3932029ce6387e91627b04c9c89439c0e481aabf5b9859af45db8de'}]"
      ]
     },
     "execution_count": 233,
     "metadata": {},
     "output_type": "execute_result"
    }
   ],
   "source": [
    "from web3.middleware import geth_poa_middleware\n",
    "import json\n",
    "import subprocess\n",
    "from bit import wif_to_key\n",
    "from web3 import Web3, middleware, Account\n",
    "from web3.gas_strategies.time_based import medium_gas_price_strategy\n",
    "import os\n",
    "from constants import BTC, BTCTEST, ETH\n",
    "\n",
    "from bit import PrivateKeyTestnet\n",
    "from bit.network import NetworkAPI\n",
    "from eth_account import account\n",
    "\n",
    "mnemonic_key = os.getenv(\"mnem\") \n",
    "\n",
    "command = './derive -g --mnemonic=\"{mnemonic_key}\" --cols=path,address,privkey,pubkey --coin BTC --numderive=3 --format=json'\n",
    "\n",
    "\n",
    "p = subprocess.Popen(command, stdout=subprocess.PIPE, shell=True)\n",
    "(output, err) = p.communicate()\n",
    "p_status = p.wait()\n",
    "\n",
    "\n",
    "key1 = json.loads(output)\n",
    "key1\n"
   ]
  },
  {
   "cell_type": "code",
   "execution_count": 234,
   "metadata": {},
   "outputs": [
    {
     "name": "stdout",
     "output_type": "stream",
     "text": [
      "useless earn hobby fantasy recycle tornado water demand train topic vendor into\n"
     ]
    }
   ],
   "source": [
    "print(mnemonic_key)"
   ]
  },
  {
   "cell_type": "code",
   "execution_count": 235,
   "metadata": {},
   "outputs": [
    {
     "data": {
      "text/plain": [
       "[{'path': \"m/44'/60'/0'/0/0\",\n",
       "  'address': '0x872D613802474F826BfB613624Bc351d19d33062',\n",
       "  'privkey': '0xf02d37e1ef3d1fc2008df2b24aaa4be83f7cdb59a7264eb62e9007362ad3632d',\n",
       "  'pubkey': '03e3e8ceb7c82416db5d1cad2aaa767f55bdfc448456f94445df28c79ebff59e15'},\n",
       " {'path': \"m/44'/60'/0'/0/1\",\n",
       "  'address': '0x0Af66cFAE7aCB166616cB8DE946D5d54232b6A9D',\n",
       "  'privkey': '0xb842737a8ecd2305d15e1870d57bc489928fead6605180d2685e915dd48ea109',\n",
       "  'pubkey': '033f1c9461799ad5647c41af1565429aaa6d56a09e8c58add8d7af3240536e0746'},\n",
       " {'path': \"m/44'/60'/0'/0/2\",\n",
       "  'address': '0x66841cF59eDcE3E53C1e68DA8b77dA6684f32b84',\n",
       "  'privkey': '0x9b4ddc7cf5460b53037b4cdce018c7a3e957660e395cbfcd0e99d05a438c0c54',\n",
       "  'pubkey': '031a8c2f9f3bd332ccded37a88fd40b36aff756a01f61cf4af3b57df44459aea30'}]"
      ]
     },
     "execution_count": 235,
     "metadata": {},
     "output_type": "execute_result"
    }
   ],
   "source": [
    "\n",
    "command = './derive -g --mnemonic=\"{mnemonic_key}\" --cols=path,address,privkey,pubkey --coin ETH --numderive=3 --format=json'\n",
    "\n",
    "# pc users do this\n",
    "#command = 'php ..\\..\\..\\..\\..\\derive -g --mnemonic=\"whip force hammer expand original duck smile antique cash voice march ladder\" --cols=path,address,privkey,pubkey --format=json'\n",
    "\n",
    "p = subprocess.Popen(command, stdout=subprocess.PIPE, shell=True)\n",
    "(output, err) = p.communicate()\n",
    "p_status = p.wait()\n",
    "\n",
    "\n",
    "\n",
    "key = json.loads(output)\n",
    "key2\n"
   ]
  },
  {
   "cell_type": "code",
   "execution_count": 236,
   "metadata": {},
   "outputs": [
    {
     "data": {
      "text/plain": [
       "{'ETH': [{'path': \"m/44'/60'/0'/0/0\",\n",
       "   'address': '0x65F835Dd1ac47f1f3241609C4fFe0Ea9E5e29290',\n",
       "   'privkey': '0xf2fe5b3b508caa0bb8ec2e06a40d0d77b85c89d87e1b03064dc0d32aa3755f8c',\n",
       "   'pubkey': '02b87386ba1b6ddfcaa9be7eda6b59355ed9f736442914dc276b66f729d9eb5cdc'},\n",
       "  {'path': \"m/44'/60'/0'/0/1\",\n",
       "   'address': '0xA5f257479Ad5c42A3EF38690Ea650C2FAD2637Bc',\n",
       "   'privkey': '0x19a0fe7a357518a53c387a3a8ededa77edcedb328bdc2f9a4bc9181ca83202e9',\n",
       "   'pubkey': '02588b7ce78e82cb6aa72f5c226709481bb7c07eff1966e5ef384cb71376d3baaf'},\n",
       "  {'path': \"m/44'/60'/0'/0/2\",\n",
       "   'address': '0x76d4238269683263E85559312D28D87DA093f9B8',\n",
       "   'privkey': '0xf183f2efab621b54a1bfac495744de8ada9c3bf4b524c9a34fd8e38d05b4ecdf',\n",
       "   'pubkey': '02d267d5eb5f70a0196c0e9ae25d35e20f42e1a7ec52f3bf107efecb1d97886342'}],\n",
       " 'BTC': [{'path': \"m/44'/0'/0'/0/0\",\n",
       "   'address': '1KsBQAYcBin2Dn38U44549EuwpMwYf945v',\n",
       "   'privkey': 'L1vVGC25qfwQGzWjV2K236M5RfVVAvnKMHikvS42VNSXbk8hyCn6',\n",
       "   'pubkey': '020dc32e0e54e46c7f96bd95712163a7c33f25761576b90929f48ee9e94231ff55'},\n",
       "  {'path': \"m/44'/0'/0'/0/1\",\n",
       "   'address': '1MSGrkaT2iDZxDM8pJT9btGowWCdpVKed3',\n",
       "   'privkey': 'L5cf5PWBW8E4A9ggyHDmJzpKLPs9T4pq7DVfEmL911uTxtdQirZk',\n",
       "   'pubkey': '02ba4d9e26e71a777bfc1c0f820df42a988a9dc01fe415f448b228821ee8e5bed2'},\n",
       "  {'path': \"m/44'/0'/0'/0/2\",\n",
       "   'address': '1Kf9aa67F5KY3Ci9cNVpWwnhbHcseN3eFQ',\n",
       "   'privkey': 'L1tUfMyyp4PNNWdDvnm5kMmXKpQ9uuKyVcE83uiEHnk1CAhf8ry1',\n",
       "   'pubkey': '031b7f1b6e58fa508a'}]}"
      ]
     },
     "execution_count": 236,
     "metadata": {},
     "output_type": "execute_result"
    }
   ],
   "source": [
    "coins = {}\n",
    "coins['ETH'] = []\n",
    "coins['ETH'].append({\n",
    "    'path': \"m/44'/60'/0'/0/0\",\n",
    "    'address': '0x65F835Dd1ac47f1f3241609C4fFe0Ea9E5e29290',\n",
    "    'privkey': '0xf2fe5b3b508caa0bb8ec2e06a40d0d77b85c89d87e1b03064dc0d32aa3755f8c',\n",
    "    'pubkey': '02b87386ba1b6ddfcaa9be7eda6b59355ed9f736442914dc276b66f729d9eb5cdc'\n",
    "})\n",
    "coins['ETH'].append({\n",
    "    'path': \"m/44'/60'/0'/0/1\",\n",
    "    'address': '0xA5f257479Ad5c42A3EF38690Ea650C2FAD2637Bc',\n",
    "    'privkey': '0x19a0fe7a357518a53c387a3a8ededa77edcedb328bdc2f9a4bc9181ca83202e9',\n",
    "    'pubkey': '02588b7ce78e82cb6aa72f5c226709481bb7c07eff1966e5ef384cb71376d3baaf'\n",
    "})\n",
    "\n",
    "coins['ETH'].append({\n",
    "    'path': \"m/44'/60'/0'/0/2\",\n",
    "    'address': '0x76d4238269683263E85559312D28D87DA093f9B8',\n",
    "    'privkey': '0xf183f2efab621b54a1bfac495744de8ada9c3bf4b524c9a34fd8e38d05b4ecdf',\n",
    "    'pubkey': '02d267d5eb5f70a0196c0e9ae25d35e20f42e1a7ec52f3bf107efecb1d97886342'\n",
    "})\n",
    "coins['BTC'] = []\n",
    "coins['BTC'].append({\n",
    "    'path': \"m/44'/0'/0'/0/0\",\n",
    "    'address': '1KsBQAYcBin2Dn38U44549EuwpMwYf945v',\n",
    "    'privkey': 'L1vVGC25qfwQGzWjV2K236M5RfVVAvnKMHikvS42VNSXbk8hyCn6',\n",
    "    'pubkey': '020dc32e0e54e46c7f96bd95712163a7c33f25761576b90929f48ee9e94231ff55'\n",
    "})\n",
    "coins['BTC'].append({\n",
    "    'path': \"m/44'/0'/0'/0/1\",\n",
    "    'address': '1MSGrkaT2iDZxDM8pJT9btGowWCdpVKed3',\n",
    "    'privkey': 'L5cf5PWBW8E4A9ggyHDmJzpKLPs9T4pq7DVfEmL911uTxtdQirZk',\n",
    "    'pubkey': '02ba4d9e26e71a777bfc1c0f820df42a988a9dc01fe415f448b228821ee8e5bed2'\n",
    "})\n",
    "\n",
    "coins[\"BTC\"].append({\n",
    "    'path': \"m/44'/0'/0'/0/2\",\n",
    "    'address': '1Kf9aa67F5KY3Ci9cNVpWwnhbHcseN3eFQ',\n",
    "    'privkey': 'L1tUfMyyp4PNNWdDvnm5kMmXKpQ9uuKyVcE83uiEHnk1CAhf8ry1',    \n",
    "    'pubkey': '031b7f1b6e58fa508a'\n",
    "})    \n",
    "coins"
   ]
  },
  {
   "cell_type": "code",
   "execution_count": 237,
   "metadata": {},
   "outputs": [],
   "source": [
    "#with open('coins', 'w') as f:\n",
    "        #key1 = json.dump(coins, f, indent = 4, sort_keys = True)"
   ]
  },
  {
   "cell_type": "code",
   "execution_count": null,
   "metadata": {},
   "outputs": [],
   "source": []
  },
  {
   "cell_type": "code",
   "execution_count": 238,
   "metadata": {},
   "outputs": [
    {
     "data": {
      "text/plain": [
       "{'ETH': [{'path': \"m/44'/60'/0'/0/0\",\n",
       "   'address': '0x65F835Dd1ac47f1f3241609C4fFe0Ea9E5e29290',\n",
       "   'privkey': '0xf2fe5b3b508caa0bb8ec2e06a40d0d77b85c89d87e1b03064dc0d32aa3755f8c',\n",
       "   'pubkey': '02b87386ba1b6ddfcaa9be7eda6b59355ed9f736442914dc276b66f729d9eb5cdc'},\n",
       "  {'path': \"m/44'/60'/0'/0/1\",\n",
       "   'address': '0xA5f257479Ad5c42A3EF38690Ea650C2FAD2637Bc',\n",
       "   'privkey': '0x19a0fe7a357518a53c387a3a8ededa77edcedb328bdc2f9a4bc9181ca83202e9',\n",
       "   'pubkey': '02588b7ce78e82cb6aa72f5c226709481bb7c07eff1966e5ef384cb71376d3baaf'},\n",
       "  {'path': \"m/44'/60'/0'/0/2\",\n",
       "   'address': '0x76d4238269683263E85559312D28D87DA093f9B8',\n",
       "   'privkey': '0xf183f2efab621b54a1bfac495744de8ada9c3bf4b524c9a34fd8e38d05b4ecdf',\n",
       "   'pubkey': '02d267d5eb5f70a0196c0e9ae25d35e20f42e1a7ec52f3bf107efecb1d97886342'}],\n",
       " 'BTC': [{'path': \"m/44'/0'/0'/0/0\",\n",
       "   'address': '1KsBQAYcBin2Dn38U44549EuwpMwYf945v',\n",
       "   'privkey': 'L1vVGC25qfwQGzWjV2K236M5RfVVAvnKMHikvS42VNSXbk8hyCn6',\n",
       "   'pubkey': '020dc32e0e54e46c7f96bd95712163a7c33f25761576b90929f48ee9e94231ff55'},\n",
       "  {'path': \"m/44'/0'/0'/0/1\",\n",
       "   'address': '1MSGrkaT2iDZxDM8pJT9btGowWCdpVKed3',\n",
       "   'privkey': 'L5cf5PWBW8E4A9ggyHDmJzpKLPs9T4pq7DVfEmL911uTxtdQirZk',\n",
       "   'pubkey': '02ba4d9e26e71a777bfc1c0f820df42a988a9dc01fe415f448b228821ee8e5bed2'},\n",
       "  {'path': \"m/44'/0'/0'/0/2\",\n",
       "   'address': '1Kf9aa67F5KY3Ci9cNVpWwnhbHcseN3eFQ',\n",
       "   'privkey': 'L1tUfMyyp4PNNWdDvnm5kMmXKpQ9uuKyVcE83uiEHnk1CAhf8ry1',\n",
       "   'pubkey': '031b7f1b6e58fa508a'}]}"
      ]
     },
     "execution_count": 238,
     "metadata": {},
     "output_type": "execute_result"
    }
   ],
   "source": [
    "coins"
   ]
  },
  {
   "cell_type": "code",
   "execution_count": 239,
   "metadata": {},
   "outputs": [
    {
     "data": {
      "text/plain": [
       "'0x19a0fe7a357518a53c387a3a8ededa77edcedb328bdc2f9a4bc9181ca83202e9'"
      ]
     },
     "execution_count": 239,
     "metadata": {},
     "output_type": "execute_result"
    }
   ],
   "source": [
    "coins['ETH'][1]['privkey']"
   ]
  },
  {
   "cell_type": "code",
   "execution_count": 240,
   "metadata": {},
   "outputs": [
    {
     "data": {
      "text/plain": [
       "'L5cf5PWBW8E4A9ggyHDmJzpKLPs9T4pq7DVfEmL911uTxtdQirZk'"
      ]
     },
     "execution_count": 240,
     "metadata": {},
     "output_type": "execute_result"
    }
   ],
   "source": [
    "coins['BTC'][1]['privkey']"
   ]
  },
  {
   "cell_type": "code",
   "execution_count": 241,
   "metadata": {},
   "outputs": [],
   "source": [
    "w3 = Web3(Web3.HTTPProvider(\"http://localhost:8545\"))\n",
    "w3.middleware_onion.inject(geth_poa_middleware, layer=0)\n",
    "w3.eth.setGasPriceStrategy(medium_gas_price_strategy)"
   ]
  },
  {
   "cell_type": "code",
   "execution_count": 242,
   "metadata": {},
   "outputs": [
    {
     "data": {
      "text/plain": [
       "[{'path': \"m/44'/0'/0'/0/0\",\n",
       "  'address': '1Az4Q5Whgv5dsQbYeVDb5nzGriXCeQ5Q5L',\n",
       "  'xprv': 'xprvA37PqzbbpPvJjhSThUKiPuRwSUCqVx7PKrxQ46FMnGjpVnm9wcS3ywDqgepBkbjMrmkb8RtePkmtsyiYW8cWDS3swnsoMAxLJZb1jc8w5L2',\n",
       "  'xpub': 'xpub6G6kFW8VemUbxBWvoVrim3NfzW3KuQqEh5szrUeyLcGoNb6JV9kJXjYKXtso7vSGy1tHDkmjZBUnNzKWTtFq2KsNnByQvVQpSGkmwrYFxzp',\n",
       "  'privkey': 'L2gZ6iGHoqzJZrC5Ff6p7cRvVEKTYVrY2XDGYdZbHgMcWisUwkBA',\n",
       "  'pubkey': '02237c726799f5a435507140005b9f12b2fc478cfedf067557cee4cb89813825f0',\n",
       "  'pubkeyhash': '6d83ada4b0dbdda9856cff3dd54c68ed993cf583',\n",
       "  'index': 0},\n",
       " {'path': \"m/44'/0'/0'/0/1\",\n",
       "  'address': '1BWQ6GyyCdDKzuRqQGdzaygH93yqJRaNYM',\n",
       "  'xprv': 'xprvA37PqzbbpPvJp6tc49xsUt828JVFJyANMCasJ9mngDtbMHtKhup8EVCwSJWokdAyJd7gtF6RoTmhKt2VwvVf8twnP1hzwc9gxknNkxS4ynp',\n",
       "  'xpub': 'xpub6G6kFW8VemUc2ay5ABVsr24kgLKjiRtDiRWU6YBQEZRaE6DUFT8NnHXRHaRTJLV4J5MSmix6hNEh6msKWtDnvr6uTib4PFCz6826BNc3CWK',\n",
       "  'privkey': 'KwQK6uap1THP1LGwfttoEcVgWP1a2XsKvzjuYLUeyqB8G11y29yU',\n",
       "  'pubkey': '0278fc6312c5d9c3e3d50288c5175763741379c6bfcf4e13b3eaf315047db65610',\n",
       "  'pubkeyhash': '7340989964727fd41420cba3623fd9941f8d6953',\n",
       "  'index': 1},\n",
       " {'path': \"m/44'/0'/0'/0/2\",\n",
       "  'address': '1GcBymMzWaVRwaGSo7HukFmpX85w3PCixG',\n",
       "  'xprv': 'xprvA37PqzbbpPvJrPspt6BUSP3CQU5RGDy5jMV3UoGjT9rzjjRLj3oApvToo3CDerktytcUBYvgiHsoeYEwK8Z4m61WYaDfLoXKuUayY9Vn4Gv',\n",
       "  'xpub': 'xpub6G6kFW8VemUc4sxHz7iUoWyvxVuufggw6aQeHBgM1VPycXkVGb7RNinHeM64ubGXvyCc48Q2qCgcTmysGeZybDc4XnZ9CWZfLSC3bEkkTe6',\n",
       "  'privkey': 'KzVjF3J5pPzabzGHK8fUrQt4oKNzPA6jSCxWp49z7j4eaA1JAqce',\n",
       "  'pubkey': '03dadd40eea2337adb18a7e5c390e8cd3593087d1aa8cae013c31f689045103a07',\n",
       "  'pubkeyhash': 'ab319c27aadf85ac8b8f932aac79a15636ef5b78',\n",
       "  'index': 2}]"
      ]
     },
     "execution_count": 242,
     "metadata": {},
     "output_type": "execute_result"
    }
   ],
   "source": [
    "def derive_wallets(coins=ETH, mnemonic = mnemonic_key, depth = 3):\n",
    "    command = f\"./derive -g --mnemonic='{mnemonic_key}' --coins={coins} --numderive={depth} --format=json\"\n",
    "    p = subprocess.Popen(command, stdout=subprocess.PIPE, shell=True)\n",
    "    (output, err) = p.communicate()\n",
    "    p_status = p.wait()\n",
    "    return json.loads(output)\n",
    "derive_wallets()"
   ]
  },
  {
   "cell_type": "code",
   "execution_count": 243,
   "metadata": {},
   "outputs": [
    {
     "data": {
      "text/plain": [
       "[{'path': \"m/44'/0'/0'/0/0\",\n",
       "  'address': '1Az4Q5Whgv5dsQbYeVDb5nzGriXCeQ5Q5L',\n",
       "  'xprv': 'xprvA37PqzbbpPvJjhSThUKiPuRwSUCqVx7PKrxQ46FMnGjpVnm9wcS3ywDqgepBkbjMrmkb8RtePkmtsyiYW8cWDS3swnsoMAxLJZb1jc8w5L2',\n",
       "  'xpub': 'xpub6G6kFW8VemUbxBWvoVrim3NfzW3KuQqEh5szrUeyLcGoNb6JV9kJXjYKXtso7vSGy1tHDkmjZBUnNzKWTtFq2KsNnByQvVQpSGkmwrYFxzp',\n",
       "  'privkey': 'L2gZ6iGHoqzJZrC5Ff6p7cRvVEKTYVrY2XDGYdZbHgMcWisUwkBA',\n",
       "  'pubkey': '02237c726799f5a435507140005b9f12b2fc478cfedf067557cee4cb89813825f0',\n",
       "  'pubkeyhash': '6d83ada4b0dbdda9856cff3dd54c68ed993cf583',\n",
       "  'index': 0},\n",
       " {'path': \"m/44'/0'/0'/0/1\",\n",
       "  'address': '1BWQ6GyyCdDKzuRqQGdzaygH93yqJRaNYM',\n",
       "  'xprv': 'xprvA37PqzbbpPvJp6tc49xsUt828JVFJyANMCasJ9mngDtbMHtKhup8EVCwSJWokdAyJd7gtF6RoTmhKt2VwvVf8twnP1hzwc9gxknNkxS4ynp',\n",
       "  'xpub': 'xpub6G6kFW8VemUc2ay5ABVsr24kgLKjiRtDiRWU6YBQEZRaE6DUFT8NnHXRHaRTJLV4J5MSmix6hNEh6msKWtDnvr6uTib4PFCz6826BNc3CWK',\n",
       "  'privkey': 'KwQK6uap1THP1LGwfttoEcVgWP1a2XsKvzjuYLUeyqB8G11y29yU',\n",
       "  'pubkey': '0278fc6312c5d9c3e3d50288c5175763741379c6bfcf4e13b3eaf315047db65610',\n",
       "  'pubkeyhash': '7340989964727fd41420cba3623fd9941f8d6953',\n",
       "  'index': 1},\n",
       " {'path': \"m/44'/0'/0'/0/2\",\n",
       "  'address': '1GcBymMzWaVRwaGSo7HukFmpX85w3PCixG',\n",
       "  'xprv': 'xprvA37PqzbbpPvJrPspt6BUSP3CQU5RGDy5jMV3UoGjT9rzjjRLj3oApvToo3CDerktytcUBYvgiHsoeYEwK8Z4m61WYaDfLoXKuUayY9Vn4Gv',\n",
       "  'xpub': 'xpub6G6kFW8VemUc4sxHz7iUoWyvxVuufggw6aQeHBgM1VPycXkVGb7RNinHeM64ubGXvyCc48Q2qCgcTmysGeZybDc4XnZ9CWZfLSC3bEkkTe6',\n",
       "  'privkey': 'KzVjF3J5pPzabzGHK8fUrQt4oKNzPA6jSCxWp49z7j4eaA1JAqce',\n",
       "  'pubkey': '03dadd40eea2337adb18a7e5c390e8cd3593087d1aa8cae013c31f689045103a07',\n",
       "  'pubkeyhash': 'ab319c27aadf85ac8b8f932aac79a15636ef5b78',\n",
       "  'index': 2}]"
      ]
     },
     "execution_count": 243,
     "metadata": {},
     "output_type": "execute_result"
    }
   ],
   "source": [
    "def derive_wallets(coins=BTC, mnemonic = mnemonic_key, depth = 3):\n",
    "    command = f\"./derive -g --mnemonic='{mnemonic}' --coins={coins} --numderive={depth} --format=json\"\n",
    "    p = subprocess.Popen(command, stdout=subprocess.PIPE, shell=True)\n",
    "    (output, err) = p.communicate()\n",
    "    p_status = p.wait()\n",
    "    return json.loads(output)\n",
    "derive_wallets()"
   ]
  },
  {
   "cell_type": "code",
   "execution_count": 244,
   "metadata": {},
   "outputs": [],
   "source": [
    "def priv_key_to_account(privkey, coins):\n",
    "    if coins == ETH:\n",
    "        return Account.privateKeyToAccount(privkey)\n",
    "    if coins == BTC:\n",
    "        return PrivateKeyTestnet(privkey)\n",
    " \n"
   ]
  },
  {
   "cell_type": "code",
   "execution_count": 249,
   "metadata": {},
   "outputs": [],
   "source": [
    "from wallet import *\n"
   ]
  },
  {
   "cell_type": "code",
   "execution_count": 250,
   "metadata": {},
   "outputs": [],
   "source": [
    "def create_tx(account, recipient, amount, coins):\n",
    "    if coins == ETH:\n",
    "        wei = w3.toWei(amount,\"ether\")\n",
    "        transdict = {\"from\" : account.address, \"to\" : recipient, \"value\" : amount} \n",
    "        gas = w3.eth.estimateGas(transdict)\n",
    "        return {\n",
    "            \"from\" : account.address,\n",
    "            \"to\" : recipient,\n",
    "            \"value\" : amount,\n",
    "            \"gas\" : gas,\n",
    "            \"gasPrice\": w3.eth.gasPrice,\n",
    "            \"nonce\" : w3.eth.getTransactionCount(account.address),\n",
    "            \"chainId\" : w3.net.chainId\n",
    "            }\n",
    "    if coin ==BTC:\n",
    "        return PrivateKeyTestnet.prepare_transaction(account.address, [(to, amount, BTC)])"
   ]
  },
  {
   "cell_type": "code",
   "execution_count": 251,
   "metadata": {},
   "outputs": [],
   "source": [
    "#    \n",
    "def send_tx(recipient, amount, account, coins):\n",
    "    if coins == ETH:\n",
    "        raw_tx = create_tx(account = account, recipient = recipient, amount = amount, coins = ETH)\n",
    "        signed_tx = account.sign_transactions(raw_tx)\n",
    "        return w3.eth.sendRawTransaction(signed_tx.rawTransaction)\n",
    "        print(result.hex())\n",
    "        return result.hex()\n",
    "   \n",
    "    if coin == BTCTEST:   \n",
    "        init_tx = create_tx(coin, account, to, amount)\n",
    "        signed_tx = account.sign_transaction(init_tx)      \n",
    "        return NetworkAPI.broadcast_tx_testnet(signed_tx)"
   ]
  },
  {
   "cell_type": "code",
   "execution_count": null,
   "metadata": {},
   "outputs": [],
   "source": [
    "priv_to_key"
   ]
  }
 ],
 "metadata": {
  "kernelspec": {
   "display_name": "Python 3",
   "language": "python",
   "name": "python3"
  },
  "language_info": {
   "codemirror_mode": {
    "name": "ipython",
    "version": 3
   },
   "file_extension": ".py",
   "mimetype": "text/x-python",
   "name": "python",
   "nbconvert_exporter": "python",
   "pygments_lexer": "ipython3",
   "version": "3.7.6"
  }
 },
 "nbformat": 4,
 "nbformat_minor": 4
}
